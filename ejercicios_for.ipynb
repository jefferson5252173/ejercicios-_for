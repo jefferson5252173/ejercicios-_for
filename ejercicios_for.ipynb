{
  "nbformat": 4,
  "nbformat_minor": 0,
  "metadata": {
    "colab": {
      "provenance": [],
      "authorship_tag": "ABX9TyM5jF1Pyqp7oZPXnU8zIr6e",
      "include_colab_link": true
    },
    "kernelspec": {
      "name": "python3",
      "display_name": "Python 3"
    },
    "language_info": {
      "name": "python"
    }
  },
  "cells": [
    {
      "cell_type": "markdown",
      "metadata": {
        "id": "view-in-github",
        "colab_type": "text"
      },
      "source": [
        "<a href=\"https://colab.research.google.com/github/jefferson5252173/ejercicios-_for/blob/main/ejercicios_for.ipynb\" target=\"_parent\"><img src=\"https://colab.research.google.com/assets/colab-badge.svg\" alt=\"Open In Colab\"/></a>"
      ]
    },
    {
      "cell_type": "code",
      "source": [],
      "metadata": {
        "id": "R68leOhorWMs"
      },
      "execution_count": null,
      "outputs": []
    },
    {
      "cell_type": "markdown",
      "source": [
        "INTRUCCION REPETITIVA"
      ],
      "metadata": {
        "id": "hsJExLrIrtP5"
      }
    },
    {
      "cell_type": "code",
      "execution_count": null,
      "metadata": {
        "id": "zCOYGo6BqVO9"
      },
      "outputs": [],
      "source": [
        "#EJERCICIO 1: MOSTRAR LOS NUMEROS DEL 1 AL 10, SIN USAR INSTRUCCIONES REPETITIVAS\n",
        "\n",
        "print(1)\n",
        "print(2)\n",
        "print(3)\n",
        "print(4)\n",
        "print(5)\n",
        "print(6)\n",
        "print(7)\n",
        "print(8)\n",
        "print(9)\n",
        "print(10)\n",
        "\n",
        "\n",
        "\n",
        " "
      ]
    },
    {
      "cell_type": "code",
      "source": [
        "#EJERCICIO 2: mostrar los numeros del 1 al 10, usando instrucciones repetitivas while\n",
        "\n",
        "contador= 1\n",
        "print(contador)\n",
        "while contador <10:\n",
        "  #contador = contador + 1\n",
        "  contador += 1\n",
        "  print(contador)"
      ],
      "metadata": {
        "id": "S2CnwaVitcEk"
      },
      "execution_count": null,
      "outputs": []
    },
    {
      "cell_type": "code",
      "source": [
        "#EJERCICIO 3: mostrar los numeros del 1 al 10, ultilizando la instruccion for y una lista iterable\n",
        "\n",
        "for i in [1,2,3,4,5,6,7,8,9,10]:\n",
        "  print(i)\n"
      ],
      "metadata": {
        "colab": {
          "base_uri": "https://localhost:8080/"
        },
        "id": "nuDhL1NevOi8",
        "outputId": "5abebb97-dc36-418e-b948-3baa63a30e53"
      },
      "execution_count": 33,
      "outputs": [
        {
          "output_type": "stream",
          "name": "stdout",
          "text": [
            "1\n",
            "2\n",
            "3\n",
            "4\n",
            "5\n",
            "6\n",
            "7\n",
            "8\n",
            "9\n",
            "10\n"
          ]
        }
      ]
    },
    {
      "cell_type": "code",
      "source": [
        "#EJERCICIO 4: mostrar lols numeros del 1 al 10, usanmdo la instruccion for y la instruccion  range\n",
        "\n",
        "for i in range(1,11):\n",
        "  print(i)"
      ],
      "metadata": {
        "id": "eQGiOYomwyyj"
      },
      "execution_count": null,
      "outputs": []
    },
    {
      "cell_type": "code",
      "source": [
        "# EJEJRCICIO 5: mostrar una frase 10 veces, usando la instruccion for y una lista\n",
        "\n",
        "lista = [1,2,3,4,5,6,7,8,9,10]\n",
        "for i in lista:\n",
        "print(f\"{i}(\"sistemas, la mejor!!!\")"
      ],
      "metadata": {
        "id": "LDa_2YKuxhCc"
      },
      "execution_count": null,
      "outputs": []
    },
    {
      "cell_type": "code",
      "source": [
        "#EJERCICIO 6: mostrar la silaba inicial de los dias de la semana, usando for y una lista con la silaba inicial de los\n",
        "\n",
        "dias_semana = [\"lu\", \"ma\", \"mi\", \"ju\", \"vi\", \"sa\", \"do\" ]\n",
        "for i in dias_semana:\n",
        "  print(i)"
      ],
      "metadata": {
        "id": "c1hxCmiqyvzB"
      },
      "execution_count": null,
      "outputs": []
    },
    {
      "cell_type": "code",
      "source": [
        "#EJERCICIO 7: mostrar una lista de distintos tipos de datos, usando for\n",
        "\n",
        "lista = [1,3,4,9, true \"nestor\" ,8, \"guanenta\"]\n",
        "for i in dias_semana:\n",
        "  print(i)"
      ],
      "metadata": {
        "id": "XVhyGkdJzt1i"
      },
      "execution_count": null,
      "outputs": []
    },
    {
      "cell_type": "code",
      "source": [
        "#EJERCICIO 8: ingresar su nombre y mostrarlo letra a letra, usando for\n",
        "\n",
        "nombre = input(\"digite su nombre: \")\n",
        "for letra in nombre:\n",
        "  print(letra)"
      ],
      "metadata": {
        "id": "xL-QHKB10aO9"
      },
      "execution_count": null,
      "outputs": []
    },
    {
      "cell_type": "code",
      "source": [
        "#EJERCICIO 9: ingresar su nombre y mostrarlo letra a letra, usando  for, cambiado por asterisco * a la vocal e\n",
        "\n",
        "nombre = input(\"digite su nombre: \")\n",
        "for letra in nombre:\n",
        "  if letra == 'e':\n",
        "    print(\"*\")\n",
        "  else:\n",
        "      print(letra)"
      ],
      "metadata": {
        "id": "Lh20l1H_xfbj"
      },
      "execution_count": null,
      "outputs": []
    },
    {
      "cell_type": "code",
      "source": [
        "#EJERCICIO 10: ingrasar su nombre y mostrarlo letra a letra en mayuscula, usando for\n",
        "\n",
        "nombre = input(\"digite su nombre\")\n",
        "for letra in nombre:\n",
        "  print (letra.upper())"
      ],
      "metadata": {
        "id": "vhBcbBY6__zy"
      },
      "execution_count": null,
      "outputs": []
    },
    {
      "cell_type": "code",
      "source": [
        "#EJERCICIO 11: imprimir listas de nukeros usando for y range\n",
        "\n",
        "print(\"numeros del 0 al 9\")\n",
        "for i in range(10):\n",
        "  print(i)\n",
        "\n",
        "print(\"numeros del 1 al 10\")\n",
        "for i in range(1,11):\n",
        "  print(i)\n",
        "\n",
        "print(\"10 veces la frase\")\n",
        "for i in range(10):\n",
        "  print(\"sistemas el mejor\")\n",
        "\n",
        "print(\"10 veces la frase i\")\n",
        "for i in range(10):\n",
        "  print(\"i = \" + str (i))  \n",
        "\n",
        "print(\"10 veces la frase i\")\n",
        "for i in range(10):\n",
        "  print(f\" i = {i}\")\n",
        "\n",
        "print(\"rango del 7 al 18, incrementando de 4 en 4\")\n",
        "for i in range(7,19,4):\n",
        "  print(i) \n",
        "\n",
        "print(\"convierte rango en lista a, y la muestra\")\n",
        "a = list(range(1000))\n",
        "print(a)\n"
      ],
      "metadata": {
        "id": "eeupSS8iAp15"
      },
      "execution_count": null,
      "outputs": []
    },
    {
      "cell_type": "markdown",
      "source": [
        "#ejercicios\n",
        "1. dada la siguiente lista de numeros, [20, 21, 30, 41, 50, 201] mostrar en pantalla solo los que NO terminan en 1\n",
        "2. mostrar 1000 vecesla palabra \"progrmacion\"\n",
        "3. del conjunto de cadenas [\"E\", \"F\", \"M\", \"A\"] que corresponde a las iniciales de los primeros cuatro mesesdel año, mostrar el nombre completo de dichos meses.\n",
        "4. leer un texto y determinar cuantas veces dicho texto contine una de las vocales en minusculas y/o mayuscula"
      ],
      "metadata": {
        "id": "ner2TBzQG5KD"
      }
    },
    {
      "cell_type": "markdown",
      "source": [],
      "metadata": {
        "id": "P-Axx9N4Gpqi"
      }
    },
    {
      "cell_type": "code",
      "source": [
        "#1\n",
        "numeros = [20, 21, 30, 41, 50, 201]\n",
        "for numero in numeros:\n",
        "    if numero %10 != 1: \n",
        "        print(numero)"
      ],
      "metadata": {
        "id": "KP9rgDnYBxS2"
      },
      "execution_count": null,
      "outputs": []
    },
    {
      "cell_type": "code",
      "source": [
        "#2\n",
        "for i in range(1000):\n",
        "  print(\"Programacion\")\n"
      ],
      "metadata": {
        "id": "BOcq4e8wL9ED"
      },
      "execution_count": null,
      "outputs": []
    },
    {
      "cell_type": "code",
      "source": [
        "#3\n",
        "list = [\"E\", \"F\", \"M\", \"A\"]\n",
        "meses_año = [\"Enero\",\"Febrero\", \"Marzo\", \"Abril\"] \n",
        "E = \"Enero\"\n",
        "F = \"Febrero\"\n",
        "M = \"Marzo\"\n",
        "A = \"Abril\"\n",
        "for i in meses_año:\n",
        "  print(i)"
      ],
      "metadata": {
        "id": "WtcQGjacKdxN"
      },
      "execution_count": null,
      "outputs": []
    },
    {
      "cell_type": "code",
      "source": [
        "# 4\n",
        "texto = input(\"Ingresa un texto: \")\n",
        "vocales = {'a': 0, 'e': 0, 'i': 0, 'o': 0, 'u': 0, 'A': 0, 'E': 0, 'I': 0, 'O': 0, 'U': 0}\n",
        "\n",
        "for letra in texto:\n",
        "    if letra in vocales:\n",
        "        vocales[letra] += 1\n",
        "\n",
        "print(\"Vocales en el texto:\")\n",
        "for vocal, cantidad in vocales.items():\n",
        "    print(f\"{vocal}: {cantidad}\")\n"
      ],
      "metadata": {
        "colab": {
          "base_uri": "https://localhost:8080/"
        },
        "id": "NU7p5RkhO1iN",
        "outputId": "6e3179e1-8596-400f-a8e7-daf012910ebc"
      },
      "execution_count": 43,
      "outputs": [
        {
          "output_type": "stream",
          "name": "stdout",
          "text": [
            "Ingresa un texto: se\n",
            "Vocales en el texto:\n",
            "a: 0\n",
            "e: 1\n",
            "i: 0\n",
            "o: 0\n",
            "u: 0\n",
            "A: 0\n",
            "E: 0\n",
            "I: 0\n",
            "O: 0\n",
            "U: 0\n"
          ]
        }
      ]
    },
    {
      "cell_type": "markdown",
      "source": [
        "\n"
      ],
      "metadata": {
        "id": "3rlQ0C-_sGdO"
      }
    },
    {
      "cell_type": "code",
      "source": [],
      "metadata": {
        "id": "7vf0At2JsA46"
      },
      "execution_count": null,
      "outputs": []
    },
    {
      "cell_type": "code",
      "source": [],
      "metadata": {
        "id": "JVFJT8T_rxLi"
      },
      "execution_count": null,
      "outputs": []
    },
    {
      "cell_type": "markdown",
      "source": [],
      "metadata": {
        "id": "0OkoJAvVrJ6b"
      }
    },
    {
      "cell_type": "markdown",
      "source": [],
      "metadata": {
        "id": "3I23xa50q9pa"
      }
    }
  ]
}